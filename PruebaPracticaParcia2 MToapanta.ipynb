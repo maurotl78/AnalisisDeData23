{
 "cells": [
  {
   "cell_type": "markdown",
   "metadata": {
    "id": "T2dsCAmY-j5G"
   },
   "source": [
    "**Parte Práctica**"
   ]
  },
  {
   "cell_type": "markdown",
   "metadata": {
    "id": "zMwP64fV-zIS"
   },
   "source": [
    "\n",
    "Enunciado para la lectura de la base de datos .csv:\n",
    "\n",
    "Para llevar a cabo el análisis de ventas de automóviles, se proporciona un archivo llamado ventas_carros.csv, que contiene información detallada sobre las transacciones. Por favor, siga las instrucciones a continuación para cargar y analizar la base de datos:"
   ]
  },
  {
   "cell_type": "markdown",
   "metadata": {
    "id": "PbvsTz3i-5Oi"
   },
   "source": [
    "**Lectura de la base de datos:**\n",
    "\n",
    "*   Utilice la biblioteca Pandas para leer el archivo CSV llamado `ventas_carros.csv`.\n",
    "\n",
    "*   Almacene el contenido en un DataFrame llamado df."
   ]
  },
  {
   "cell_type": "code",
   "execution_count": 1,
   "metadata": {
    "id": "2hZcDQv8-iJF"
   },
   "outputs": [],
   "source": [
    "import pandas as pd\n",
    "\n",
    "# Leer la base de datos desde el archivo CSV\n",
    "df = pd.read_csv('ventas_carros.csv')"
   ]
  },
  {
   "cell_type": "markdown",
   "metadata": {
    "id": "K9ymLc-v_H5F"
   },
   "source": [
    "Ahora, con el DataFrame `df`, puedes proceder a realizar las siguientes operaciones de análisis de datos según las instrucciones previas:"
   ]
  },
  {
   "cell_type": "markdown",
   "metadata": {
    "id": "HcgZ-ZwX_QH2"
   },
   "source": [
    "\n",
    "\n",
    "1.   **Promedio de precio de venta por marca:**\n",
    "\n",
    "*   Agrupa los datos por la columna `Marca`.\n",
    "*   Calcula el promedio de precio de venta para cada marca.\n",
    "* Visualiza los resultados en un gráfico de barras.\n"
   ]
  },
  {
   "cell_type": "code",
   "execution_count": 2,
   "metadata": {
    "id": "uT4rn3Xr_LFQ"
   },
   "outputs": [
    {
     "data": {
      "text/html": [
       "<div>\n",
       "<style scoped>\n",
       "    .dataframe tbody tr th:only-of-type {\n",
       "        vertical-align: middle;\n",
       "    }\n",
       "\n",
       "    .dataframe tbody tr th {\n",
       "        vertical-align: top;\n",
       "    }\n",
       "\n",
       "    .dataframe thead th {\n",
       "        text-align: right;\n",
       "    }\n",
       "</style>\n",
       "<table border=\"1\" class=\"dataframe\">\n",
       "  <thead>\n",
       "    <tr style=\"text-align: right;\">\n",
       "      <th></th>\n",
       "      <th>Marca</th>\n",
       "      <th>Modelo</th>\n",
       "      <th>Año</th>\n",
       "      <th>Precio_Venta</th>\n",
       "      <th>Vendedor</th>\n",
       "    </tr>\n",
       "  </thead>\n",
       "  <tbody>\n",
       "    <tr>\n",
       "      <th>0</th>\n",
       "      <td>Honda</td>\n",
       "      <td>SUV</td>\n",
       "      <td>2016</td>\n",
       "      <td>36243</td>\n",
       "      <td>Vendedor_B</td>\n",
       "    </tr>\n",
       "    <tr>\n",
       "      <th>1</th>\n",
       "      <td>Ford</td>\n",
       "      <td>Truck</td>\n",
       "      <td>2013</td>\n",
       "      <td>21331</td>\n",
       "      <td>Vendedor_B</td>\n",
       "    </tr>\n",
       "    <tr>\n",
       "      <th>2</th>\n",
       "      <td>Ford</td>\n",
       "      <td>SUV</td>\n",
       "      <td>2022</td>\n",
       "      <td>23571</td>\n",
       "      <td>Vendedor_B</td>\n",
       "    </tr>\n",
       "    <tr>\n",
       "      <th>3</th>\n",
       "      <td>Toyota</td>\n",
       "      <td>Truck</td>\n",
       "      <td>2020</td>\n",
       "      <td>40068</td>\n",
       "      <td>Vendedor_C</td>\n",
       "    </tr>\n",
       "    <tr>\n",
       "      <th>4</th>\n",
       "      <td>Toyota</td>\n",
       "      <td>Truck</td>\n",
       "      <td>2017</td>\n",
       "      <td>22208</td>\n",
       "      <td>Vendedor_C</td>\n",
       "    </tr>\n",
       "  </tbody>\n",
       "</table>\n",
       "</div>"
      ],
      "text/plain": [
       "    Marca Modelo   Año  Precio_Venta    Vendedor\n",
       "0   Honda    SUV  2016         36243  Vendedor_B\n",
       "1    Ford  Truck  2013         21331  Vendedor_B\n",
       "2    Ford    SUV  2022         23571  Vendedor_B\n",
       "3  Toyota  Truck  2020         40068  Vendedor_C\n",
       "4  Toyota  Truck  2017         22208  Vendedor_C"
      ]
     },
     "execution_count": 2,
     "metadata": {},
     "output_type": "execute_result"
    }
   ],
   "source": [
    "#Viasualizacion previa de datos\n",
    "df.head()"
   ]
  },
  {
   "cell_type": "code",
   "execution_count": 3,
   "metadata": {},
   "outputs": [
    {
     "data": {
      "text/plain": [
       "Marca           0\n",
       "Modelo          0\n",
       "Año             0\n",
       "Precio_Venta    0\n",
       "Vendedor        0\n",
       "dtype: int64"
      ]
     },
     "execution_count": 3,
     "metadata": {},
     "output_type": "execute_result"
    }
   ],
   "source": [
    "# Verificando se hay valores ausentes\n",
    "df.isnull().sum()"
   ]
  },
  {
   "cell_type": "code",
   "execution_count": 4,
   "metadata": {},
   "outputs": [
    {
     "data": {
      "text/plain": [
       "Index(['Marca', 'Modelo', 'Año', 'Precio_Venta', 'Vendedor'], dtype='object')"
      ]
     },
     "execution_count": 4,
     "metadata": {},
     "output_type": "execute_result"
    }
   ],
   "source": [
    "#Visualizando las columnas del dataset\n",
    "df.columns"
   ]
  },
  {
   "cell_type": "code",
   "execution_count": 5,
   "metadata": {},
   "outputs": [
    {
     "data": {
      "text/html": [
       "<div>\n",
       "<style scoped>\n",
       "    .dataframe tbody tr th:only-of-type {\n",
       "        vertical-align: middle;\n",
       "    }\n",
       "\n",
       "    .dataframe tbody tr th {\n",
       "        vertical-align: top;\n",
       "    }\n",
       "\n",
       "    .dataframe thead th {\n",
       "        text-align: right;\n",
       "    }\n",
       "</style>\n",
       "<table border=\"1\" class=\"dataframe\">\n",
       "  <thead>\n",
       "    <tr style=\"text-align: right;\">\n",
       "      <th></th>\n",
       "      <th>Marca</th>\n",
       "      <th>Precio_Venta</th>\n",
       "    </tr>\n",
       "  </thead>\n",
       "  <tbody>\n",
       "    <tr>\n",
       "      <th>0</th>\n",
       "      <td>Chevrolet</td>\n",
       "      <td>29155.344828</td>\n",
       "    </tr>\n",
       "    <tr>\n",
       "      <th>1</th>\n",
       "      <td>Ford</td>\n",
       "      <td>29533.846154</td>\n",
       "    </tr>\n",
       "    <tr>\n",
       "      <th>2</th>\n",
       "      <td>Honda</td>\n",
       "      <td>32936.142857</td>\n",
       "    </tr>\n",
       "    <tr>\n",
       "      <th>3</th>\n",
       "      <td>Toyota</td>\n",
       "      <td>31440.583333</td>\n",
       "    </tr>\n",
       "  </tbody>\n",
       "</table>\n",
       "</div>"
      ],
      "text/plain": [
       "       Marca  Precio_Venta\n",
       "0  Chevrolet  29155.344828\n",
       "1       Ford  29533.846154\n",
       "2      Honda  32936.142857\n",
       "3     Toyota  31440.583333"
      ]
     },
     "execution_count": 5,
     "metadata": {},
     "output_type": "execute_result"
    }
   ],
   "source": [
    "#Se agrupa los datos por Marca y se obtiene el promedio de cada una.\n",
    "df_gmarca = df.groupby('Marca')['Precio_Venta'].mean().reset_index()\n",
    "df_gmarca"
   ]
  },
  {
   "cell_type": "code",
   "execution_count": 6,
   "metadata": {},
   "outputs": [
    {
     "data": {
      "image/png": "[encoded data removed]",
      "text/plain": [
       "<Figure size 1000x600 with 1 Axes>"
      ]
     },
     "metadata": {},
     "output_type": "display_data"
    }
   ],
   "source": [
    "#Visualizacion en un grafico de barras con seaborn y matplotlib\n",
    "import matplotlib.pyplot as plt\n",
    "import seaborn as sns\n",
    "\n",
    "plt.figure(figsize = (10,6))\n",
    "sns.barplot(data = df_gmarca, y = 'Precio_Venta', x = 'Marca', palette = \"Reds_d\")\n",
    "plt.show()"
   ]
  },
  {
   "cell_type": "markdown",
   "metadata": {
    "id": "JGyVNj3m_dR6"
   },
   "source": [
    "2.   **Evolución de ventas a lo largo del tiempo:**\n",
    "\n",
    "\n",
    "\n",
    "* Agrupa los datos por la columna `Año`.\n",
    "* Calcula la cantidad total de autos vendidos en cada año.\n",
    "* Crea un gráfico de líneas para mostrar la evolución de las ventas a lo largo del tiempo."
   ]
  },
  {
   "cell_type": "code",
   "execution_count": 7,
   "metadata": {
    "id": "tCZyINoG_yva"
   },
   "outputs": [
    {
     "data": {
      "text/html": [
       "<div>\n",
       "<style scoped>\n",
       "    .dataframe tbody tr th:only-of-type {\n",
       "        vertical-align: middle;\n",
       "    }\n",
       "\n",
       "    .dataframe tbody tr th {\n",
       "        vertical-align: top;\n",
       "    }\n",
       "\n",
       "    .dataframe thead th {\n",
       "        text-align: right;\n",
       "    }\n",
       "</style>\n",
       "<table border=\"1\" class=\"dataframe\">\n",
       "  <thead>\n",
       "    <tr style=\"text-align: right;\">\n",
       "      <th></th>\n",
       "      <th>Año</th>\n",
       "      <th>Precio_Venta</th>\n",
       "    </tr>\n",
       "  </thead>\n",
       "  <tbody>\n",
       "    <tr>\n",
       "      <th>0</th>\n",
       "      <td>2010</td>\n",
       "      <td>3</td>\n",
       "    </tr>\n",
       "    <tr>\n",
       "      <th>1</th>\n",
       "      <td>2011</td>\n",
       "      <td>10</td>\n",
       "    </tr>\n",
       "    <tr>\n",
       "      <th>2</th>\n",
       "      <td>2012</td>\n",
       "      <td>6</td>\n",
       "    </tr>\n",
       "    <tr>\n",
       "      <th>3</th>\n",
       "      <td>2013</td>\n",
       "      <td>9</td>\n",
       "    </tr>\n",
       "    <tr>\n",
       "      <th>4</th>\n",
       "      <td>2014</td>\n",
       "      <td>9</td>\n",
       "    </tr>\n",
       "    <tr>\n",
       "      <th>5</th>\n",
       "      <td>2015</td>\n",
       "      <td>6</td>\n",
       "    </tr>\n",
       "    <tr>\n",
       "      <th>6</th>\n",
       "      <td>2016</td>\n",
       "      <td>8</td>\n",
       "    </tr>\n",
       "    <tr>\n",
       "      <th>7</th>\n",
       "      <td>2017</td>\n",
       "      <td>10</td>\n",
       "    </tr>\n",
       "    <tr>\n",
       "      <th>8</th>\n",
       "      <td>2018</td>\n",
       "      <td>6</td>\n",
       "    </tr>\n",
       "    <tr>\n",
       "      <th>9</th>\n",
       "      <td>2019</td>\n",
       "      <td>9</td>\n",
       "    </tr>\n",
       "    <tr>\n",
       "      <th>10</th>\n",
       "      <td>2020</td>\n",
       "      <td>5</td>\n",
       "    </tr>\n",
       "    <tr>\n",
       "      <th>11</th>\n",
       "      <td>2021</td>\n",
       "      <td>13</td>\n",
       "    </tr>\n",
       "    <tr>\n",
       "      <th>12</th>\n",
       "      <td>2022</td>\n",
       "      <td>6</td>\n",
       "    </tr>\n",
       "  </tbody>\n",
       "</table>\n",
       "</div>"
      ],
      "text/plain": [
       "     Año  Precio_Venta\n",
       "0   2010             3\n",
       "1   2011            10\n",
       "2   2012             6\n",
       "3   2013             9\n",
       "4   2014             9\n",
       "5   2015             6\n",
       "6   2016             8\n",
       "7   2017            10\n",
       "8   2018             6\n",
       "9   2019             9\n",
       "10  2020             5\n",
       "11  2021            13\n",
       "12  2022             6"
      ]
     },
     "execution_count": 7,
     "metadata": {},
     "output_type": "execute_result"
    }
   ],
   "source": [
    "#Agrupa los datos por la columna de año y cuenta cuantos autos fueron vendidos\n",
    "df_gaño = df.groupby('Año')['Precio_Venta'].count().reset_index()\n",
    "df_gaño"
   ]
  },
  {
   "cell_type": "code",
   "execution_count": 8,
   "metadata": {},
   "outputs": [
    {
     "data": {
      "image/png": "[encoded data removed]",
      "text/plain": [
       "<Figure size 1000x500 with 1 Axes>"
      ]
     },
     "metadata": {},
     "output_type": "display_data"
    }
   ],
   "source": [
    "#Visualiza los datos de la evolución de las ventas a lo largo del tiempo\n",
    "import matplotlib.pyplot as plt\n",
    "import seaborn as sns\n",
    "\n",
    "plt.figure(figsize = (10,5))\n",
    "p = sns.lineplot(x = \"Año\", y = \"Precio_Venta\", data = df_gaño, marker = \"o\", color = \"green\")\n",
    "p.set_xlabel(\"Período\", fontsize=12)\n",
    "p.set_ylabel(\"Autos Vendidos\", fontsize=12)\n",
    "\n",
    "plt.show()"
   ]
  },
  {
   "cell_type": "markdown",
   "metadata": {},
   "source": [
    "Fin de la evaluación parcial II - Mauricio Toapanta"
   ]
  }
 ],
 "metadata": {
  "colab": {
   "provenance": []
  },
  "kernelspec": {
   "display_name": "Python 3 (ipykernel)",
   "language": "python",
   "name": "python3"
  },
  "language_info": {
   "codemirror_mode": {
    "name": "ipython",
    "version": 3
   },
   "file_extension": ".py",
   "mimetype": "text/x-python",
   "name": "python",
   "nbconvert_exporter": "python",
   "pygments_lexer": "ipython3",
   "version": "3.11.5"
  }
 },
 "nbformat": 4,
 "nbformat_minor": 1
}
