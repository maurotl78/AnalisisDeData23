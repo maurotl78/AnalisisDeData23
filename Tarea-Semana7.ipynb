{
 "cells": [
  {
   "cell_type": "markdown",
   "id": "3b9b4460",
   "metadata": {},
   "source": [
    "## Tarea\n",
    "\n",
    "1. Carga los datos en un DataFrame de Pandas.\n",
    "\n",
    "2. Utiliza groupBy para realizar las siguientes tareas:\n",
    "\n",
    " - Agrupa los datos por la columna 'Categoría'.\n",
    "\n",
    " - Calcula la suma total de la columna 'Valor' para cada categoría.\n",
    "\n",
    " - Calcula el promedio de la columna 'Cantidad' para cada categoría.\n",
    "\n",
    "3. Utiliza Pandas Plot para visualizar los resultados obtenidos en el paso 2. Puedes elegir el tipo de gráfico que consideres más apropiado para representar la información.\n",
    "\n",
    "4. Responde a las siguientes preguntas en tu informe:\n",
    "\n",
    " - ¿Cuál es la categoría con la suma total más alta de 'Valor'?\n",
    "\n",
    " - ¿Hay alguna categoría que se destaque en términos de promedio de 'Cantidad'?\n",
    "\n",
    " \n",
    "Entrega tu informe en formato Jupyter Notebook\n"
   ]
  },
  {
   "cell_type": "markdown",
   "id": "3fa3b70c",
   "metadata": {},
   "source": [
    "# 1. Carga los datos en un DataFrame de Pandas."
   ]
  },
  {
   "cell_type": "code",
   "execution_count": 1,
   "id": "616b4eda",
   "metadata": {},
   "outputs": [],
   "source": [
    "# Importar libreiras\n",
    "import numpy as np\n",
    "import pandas as pd\n",
    "import matplotlib.pyplot as plt\n",
    "import seaborn as sns"
   ]
  },
  {
   "cell_type": "code",
   "execution_count": 2,
   "id": "8a097c81",
   "metadata": {},
   "outputs": [
    {
     "data": {
      "text/html": [
       "<div>\n",
       "<style scoped>\n",
       "    .dataframe tbody tr th:only-of-type {\n",
       "        vertical-align: middle;\n",
       "    }\n",
       "\n",
       "    .dataframe tbody tr th {\n",
       "        vertical-align: top;\n",
       "    }\n",
       "\n",
       "    .dataframe thead th {\n",
       "        text-align: right;\n",
       "    }\n",
       "</style>\n",
       "<table border=\"1\" class=\"dataframe\">\n",
       "  <thead>\n",
       "    <tr style=\"text-align: right;\">\n",
       "      <th></th>\n",
       "      <th>Producto</th>\n",
       "      <th>Categoria</th>\n",
       "      <th>Valor</th>\n",
       "      <th>Cantidad</th>\n",
       "    </tr>\n",
       "  </thead>\n",
       "  <tbody>\n",
       "    <tr>\n",
       "      <th>0</th>\n",
       "      <td>C</td>\n",
       "      <td>Z</td>\n",
       "      <td>45</td>\n",
       "      <td>3</td>\n",
       "    </tr>\n",
       "    <tr>\n",
       "      <th>1</th>\n",
       "      <td>A</td>\n",
       "      <td>Z</td>\n",
       "      <td>8</td>\n",
       "      <td>5</td>\n",
       "    </tr>\n",
       "    <tr>\n",
       "      <th>2</th>\n",
       "      <td>C</td>\n",
       "      <td>Z</td>\n",
       "      <td>93</td>\n",
       "      <td>3</td>\n",
       "    </tr>\n",
       "    <tr>\n",
       "      <th>3</th>\n",
       "      <td>C</td>\n",
       "      <td>Z</td>\n",
       "      <td>53</td>\n",
       "      <td>3</td>\n",
       "    </tr>\n",
       "    <tr>\n",
       "      <th>4</th>\n",
       "      <td>A</td>\n",
       "      <td>X</td>\n",
       "      <td>55</td>\n",
       "      <td>3</td>\n",
       "    </tr>\n",
       "  </tbody>\n",
       "</table>\n",
       "</div>"
      ],
      "text/plain": [
       "  Producto Categoria  Valor  Cantidad\n",
       "0        C         Z     45         3\n",
       "1        A         Z      8         5\n",
       "2        C         Z     93         3\n",
       "3        C         Z     53         3\n",
       "4        A         X     55         3"
      ]
     },
     "execution_count": 2,
     "metadata": {},
     "output_type": "execute_result"
    }
   ],
   "source": [
    "# Cargando dataset\n",
    "df_prod = pd.read_csv('datos_productos.csv')\n",
    "df_prod.head(5)"
   ]
  },
  {
   "cell_type": "markdown",
   "id": "d717ee0e",
   "metadata": {},
   "source": [
    "# 2. Utiliza groupBy para realizar las siguientes tareas:"
   ]
  },
  {
   "cell_type": "markdown",
   "id": "650adb81",
   "metadata": {},
   "source": [
    "Agrupa los datos por la columna 'Categoría'.\n",
    "\n",
    "Calcula la suma total de la columna 'Valor' para cada categoría.\n",
    "\n",
    "Calcula el promedio de la columna 'Cantidad' para cada categoría"
   ]
  },
  {
   "cell_type": "code",
   "execution_count": 3,
   "id": "3a96a315",
   "metadata": {
    "scrolled": true
   },
   "outputs": [
    {
     "data": {
      "text/html": [
       "<div>\n",
       "<style scoped>\n",
       "    .dataframe tbody tr th:only-of-type {\n",
       "        vertical-align: middle;\n",
       "    }\n",
       "\n",
       "    .dataframe tbody tr th {\n",
       "        vertical-align: top;\n",
       "    }\n",
       "\n",
       "    .dataframe thead th {\n",
       "        text-align: right;\n",
       "    }\n",
       "</style>\n",
       "<table border=\"1\" class=\"dataframe\">\n",
       "  <thead>\n",
       "    <tr style=\"text-align: right;\">\n",
       "      <th></th>\n",
       "      <th>Categoria</th>\n",
       "      <th>Valor</th>\n",
       "      <th>Cantidad</th>\n",
       "    </tr>\n",
       "  </thead>\n",
       "  <tbody>\n",
       "    <tr>\n",
       "      <th>0</th>\n",
       "      <td>X</td>\n",
       "      <td>15734</td>\n",
       "      <td>5.158683</td>\n",
       "    </tr>\n",
       "    <tr>\n",
       "      <th>1</th>\n",
       "      <td>Y</td>\n",
       "      <td>15997</td>\n",
       "      <td>4.879880</td>\n",
       "    </tr>\n",
       "    <tr>\n",
       "      <th>2</th>\n",
       "      <td>Z</td>\n",
       "      <td>16355</td>\n",
       "      <td>5.075075</td>\n",
       "    </tr>\n",
       "  </tbody>\n",
       "</table>\n",
       "</div>"
      ],
      "text/plain": [
       "  Categoria  Valor  Cantidad\n",
       "0         X  15734  5.158683\n",
       "1         Y  15997  4.879880\n",
       "2         Z  16355  5.075075"
      ]
     },
     "execution_count": 3,
     "metadata": {},
     "output_type": "execute_result"
    }
   ],
   "source": [
    "resumen = df_prod.groupby('Categoria').agg({'Valor': 'sum', 'Cantidad': 'mean'}).reset_index()\n",
    "resumen\n"
   ]
  },
  {
   "cell_type": "markdown",
   "id": "5b98d7a8",
   "metadata": {},
   "source": [
    "# 3. Utiliza Pandas Plot para visualizar los resultados obtenidos en el paso 2. Puedes elegir el tipo de gráfico que consideres más apropiado para representar la información."
   ]
  },
  {
   "cell_type": "code",
   "execution_count": 4,
   "id": "36da59d3",
   "metadata": {},
   "outputs": [
    {
     "data": {
      "image/png": "[encoded data removed]",
      "text/plain": [
       "<Figure size 640x480 with 2 Axes>"
      ]
     },
     "metadata": {},
     "output_type": "display_data"
    }
   ],
   "source": [
    "grafico = resumen.plot.bar(\"Categoria\", rot=1, subplots=True, grid=1)\n"
   ]
  },
  {
   "cell_type": "markdown",
   "id": "22ba276a",
   "metadata": {},
   "source": [
    "# 4. Responde a las siguientes preguntas en tu informe:"
   ]
  },
  {
   "cell_type": "markdown",
   "id": "c3cc61e4",
   "metadata": {},
   "source": [
    "¿Cuál es la categoría con la suma total más alta de 'Valor'?"
   ]
  },
  {
   "cell_type": "code",
   "execution_count": 5,
   "id": "1c963af3",
   "metadata": {},
   "outputs": [
    {
     "name": "stdout",
     "output_type": "stream",
     "text": [
      "La categoría con la suma más alta en Valor es: Z\n"
     ]
    }
   ],
   "source": [
    "categoria_mas_alta_valor = resumen['Valor'].idxmax()\n",
    "print(f'La categoría con la suma más alta en Valor es: {resumen.loc[categoria_mas_alta_valor, \"Categoria\"]}')"
   ]
  },
  {
   "cell_type": "markdown",
   "id": "dca5c031",
   "metadata": {},
   "source": [
    "¿Hay alguna categoría que se destaque en términos de promedio de 'Cantidad'?"
   ]
  },
  {
   "cell_type": "code",
   "execution_count": 6,
   "id": "a14b0301",
   "metadata": {},
   "outputs": [
    {
     "name": "stdout",
     "output_type": "stream",
     "text": [
      "La categoría más destacada en promedio de Cantidad es: X\n"
     ]
    }
   ],
   "source": [
    "categoria_mas_alta_cantidad = resumen['Cantidad'].idxmax()\n",
    "print(f'La categoría más destacada en promedio de Cantidad es: {resumen.loc[categoria_mas_alta_cantidad, \"Categoria\"]}')"
   ]
  }
 ],
 "metadata": {
  "kernelspec": {
   "display_name": "Python 3 (ipykernel)",
   "language": "python",
   "name": "python3"
  },
  "language_info": {
   "codemirror_mode": {
    "name": "ipython",
    "version": 3
   },
   "file_extension": ".py",
   "mimetype": "text/x-python",
   "name": "python",
   "nbconvert_exporter": "python",
   "pygments_lexer": "ipython3",
   "version": "3.11.5"
  }
 },
 "nbformat": 4,
 "nbformat_minor": 5
}
